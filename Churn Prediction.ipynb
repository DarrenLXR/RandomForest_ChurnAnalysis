{
 "cells": [
  {
   "cell_type": "code",
   "execution_count": 14,
   "id": "98e7ebfa",
   "metadata": {},
   "outputs": [
    {
     "name": "stdout",
     "output_type": "stream",
     "text": [
      "  customer_id  gender  age married        state  number_of_referrals  \\\n",
      "0   19877-DEL    Male   35      No        Delhi                    7   \n",
      "1   58353-MAH  Female   45     Yes  Maharashtra                   14   \n",
      "2   25063-WES    Male   51      No  West Bengal                    4   \n",
      "3   59787-KAR    Male   79      No    Karnataka                    3   \n",
      "4   28544-TAM  Female   80      No   Tamil Nadu                    3   \n",
      "\n",
      "   tenure_in_months value_deal phone_service multiple_lines  ...  \\\n",
      "0                27       None           Yes             No  ...   \n",
      "1                13       None           Yes            Yes  ...   \n",
      "2                35     Deal 5           Yes             No  ...   \n",
      "3                21     Deal 4           Yes             No  ...   \n",
      "4                 8       None           Yes             No  ...   \n",
      "\n",
      "    payment_method monthly_charge total_charges total_refunds  \\\n",
      "0      Credit Card           65.6        593.30          0.00   \n",
      "1      Credit Card           -4.0        542.40         38.33   \n",
      "2  Bank Withdrawal           73.9        280.85          0.00   \n",
      "3  Bank Withdrawal           98.0       1237.85          0.00   \n",
      "4      Credit Card           83.9        267.40          0.00   \n",
      "\n",
      "  total_extra_data_charges total_long_distance_charges total_revenue  \\\n",
      "0                        0                      381.51        974.81   \n",
      "1                       10                       96.21        610.28   \n",
      "2                        0                      134.60        415.45   \n",
      "3                        0                      361.66       1599.51   \n",
      "4                        0                       22.14        289.54   \n",
      "\n",
      "  customer_status   churn_category                   churn_reason  \n",
      "0          Stayed           Others                         Others  \n",
      "1          Stayed           Others                         Others  \n",
      "2         Churned       Competitor  Competitor had better devices  \n",
      "3         Churned  Dissatisfaction        Product dissatisfaction  \n",
      "4         Churned  Dissatisfaction            Network reliability  \n",
      "\n",
      "[5 rows x 32 columns]\n"
     ]
    }
   ],
   "source": [
    "import pandas as pd\n",
    "import numpy as np\n",
    "import matplotlib.pyplot as plt\n",
    "import seaborn as sns\n",
    "from sklearn.model_selection import train_test_split\n",
    "from sklearn.ensemble import RandomForestClassifier\n",
    "from sklearn.metrics import classification_report, confusion_matrix\n",
    "from sklearn.preprocessing import LabelEncoder\n",
    "import joblib\n",
    "# Define the path to the Excel file\n",
    "file_path = \"C:\\Data Analyst training\\RandomForest_training\\Data\\Prediction_Data.xlsx\"\n",
    "\n",
    "# Define the sheet name to read data from\n",
    "sheet_name = 'vw_churndata'\n",
    "\n",
    "# Read the data from the specified sheet into a pandas DataFrame\n",
    "data = pd.read_excel(file_path, sheet_name=sheet_name)\n",
    "\n",
    "# Display the first few rows of the fetched data\n",
    "print(data.head())\n"
   ]
  },
  {
   "cell_type": "code",
   "execution_count": 15,
   "id": "fe3d9c48",
   "metadata": {},
   "outputs": [],
   "source": [
    "# Drop columns that won't be used for prediction\n",
    "data = data.drop(['customer_id', 'churn_category', 'churn_reason'], axis=1)\n",
    "\n",
    "# List of columns to be label encoded\n",
    "columns_to_encode = [\n",
    "    'gender', 'married', 'state', 'value_deal', 'phone_service', 'multiple_lines',\n",
    "    'internet_service', 'internet_type', 'online_security', 'online_backup',\n",
    "    'device_protection_plan', 'premium_support', 'streaming_tv', 'streaming_movies',\n",
    "    'streaming_music', 'unlimited_data', 'contract', 'paperless_billing',\n",
    "    'payment_method'\n",
    "]\n",
    "\n",
    "# Encode categorical variables except the target variable\n",
    "label_encoders = {}\n",
    "for column in columns_to_encode:\n",
    "    label_encoders[column] = LabelEncoder()\n",
    "    data[column] = label_encoders[column].fit_transform(data[column])\n",
    "\n",
    "# Manually encode the target variable 'Customer_Status'\n",
    "data['customer_status'] = data['customer_status'].map({'Stayed': 0, 'Churned': 1})\n",
    "\n",
    "# Split data into features and target\n",
    "X = data.drop('customer_status', axis=1)\n",
    "y = data['customer_status']\n",
    "\n",
    "# Split data into training and testing sets\n",
    "X_train, X_test, y_train, y_test = train_test_split(X, y, test_size=0.2, random_state=42)"
   ]
  },
  {
   "cell_type": "code",
   "execution_count": 16,
   "id": "6d75ac73",
   "metadata": {},
   "outputs": [
    {
     "data": {
      "text/html": [
       "<style>#sk-container-id-2 {color: black;}#sk-container-id-2 pre{padding: 0;}#sk-container-id-2 div.sk-toggleable {background-color: white;}#sk-container-id-2 label.sk-toggleable__label {cursor: pointer;display: block;width: 100%;margin-bottom: 0;padding: 0.3em;box-sizing: border-box;text-align: center;}#sk-container-id-2 label.sk-toggleable__label-arrow:before {content: \"▸\";float: left;margin-right: 0.25em;color: #696969;}#sk-container-id-2 label.sk-toggleable__label-arrow:hover:before {color: black;}#sk-container-id-2 div.sk-estimator:hover label.sk-toggleable__label-arrow:before {color: black;}#sk-container-id-2 div.sk-toggleable__content {max-height: 0;max-width: 0;overflow: hidden;text-align: left;background-color: #f0f8ff;}#sk-container-id-2 div.sk-toggleable__content pre {margin: 0.2em;color: black;border-radius: 0.25em;background-color: #f0f8ff;}#sk-container-id-2 input.sk-toggleable__control:checked~div.sk-toggleable__content {max-height: 200px;max-width: 100%;overflow: auto;}#sk-container-id-2 input.sk-toggleable__control:checked~label.sk-toggleable__label-arrow:before {content: \"▾\";}#sk-container-id-2 div.sk-estimator input.sk-toggleable__control:checked~label.sk-toggleable__label {background-color: #d4ebff;}#sk-container-id-2 div.sk-label input.sk-toggleable__control:checked~label.sk-toggleable__label {background-color: #d4ebff;}#sk-container-id-2 input.sk-hidden--visually {border: 0;clip: rect(1px 1px 1px 1px);clip: rect(1px, 1px, 1px, 1px);height: 1px;margin: -1px;overflow: hidden;padding: 0;position: absolute;width: 1px;}#sk-container-id-2 div.sk-estimator {font-family: monospace;background-color: #f0f8ff;border: 1px dotted black;border-radius: 0.25em;box-sizing: border-box;margin-bottom: 0.5em;}#sk-container-id-2 div.sk-estimator:hover {background-color: #d4ebff;}#sk-container-id-2 div.sk-parallel-item::after {content: \"\";width: 100%;border-bottom: 1px solid gray;flex-grow: 1;}#sk-container-id-2 div.sk-label:hover label.sk-toggleable__label {background-color: #d4ebff;}#sk-container-id-2 div.sk-serial::before {content: \"\";position: absolute;border-left: 1px solid gray;box-sizing: border-box;top: 0;bottom: 0;left: 50%;z-index: 0;}#sk-container-id-2 div.sk-serial {display: flex;flex-direction: column;align-items: center;background-color: white;padding-right: 0.2em;padding-left: 0.2em;position: relative;}#sk-container-id-2 div.sk-item {position: relative;z-index: 1;}#sk-container-id-2 div.sk-parallel {display: flex;align-items: stretch;justify-content: center;background-color: white;position: relative;}#sk-container-id-2 div.sk-item::before, #sk-container-id-2 div.sk-parallel-item::before {content: \"\";position: absolute;border-left: 1px solid gray;box-sizing: border-box;top: 0;bottom: 0;left: 50%;z-index: -1;}#sk-container-id-2 div.sk-parallel-item {display: flex;flex-direction: column;z-index: 1;position: relative;background-color: white;}#sk-container-id-2 div.sk-parallel-item:first-child::after {align-self: flex-end;width: 50%;}#sk-container-id-2 div.sk-parallel-item:last-child::after {align-self: flex-start;width: 50%;}#sk-container-id-2 div.sk-parallel-item:only-child::after {width: 0;}#sk-container-id-2 div.sk-dashed-wrapped {border: 1px dashed gray;margin: 0 0.4em 0.5em 0.4em;box-sizing: border-box;padding-bottom: 0.4em;background-color: white;}#sk-container-id-2 div.sk-label label {font-family: monospace;font-weight: bold;display: inline-block;line-height: 1.2em;}#sk-container-id-2 div.sk-label-container {text-align: center;}#sk-container-id-2 div.sk-container {/* jupyter's `normalize.less` sets `[hidden] { display: none; }` but bootstrap.min.css set `[hidden] { display: none !important; }` so we also need the `!important` here to be able to override the default hidden behavior on the sphinx rendered scikit-learn.org. See: https://github.com/scikit-learn/scikit-learn/issues/21755 */display: inline-block !important;position: relative;}#sk-container-id-2 div.sk-text-repr-fallback {display: none;}</style><div id=\"sk-container-id-2\" class=\"sk-top-container\"><div class=\"sk-text-repr-fallback\"><pre>RandomForestClassifier(random_state=42)</pre><b>In a Jupyter environment, please rerun this cell to show the HTML representation or trust the notebook. <br />On GitHub, the HTML representation is unable to render, please try loading this page with nbviewer.org.</b></div><div class=\"sk-container\" hidden><div class=\"sk-item\"><div class=\"sk-estimator sk-toggleable\"><input class=\"sk-toggleable__control sk-hidden--visually\" id=\"sk-estimator-id-2\" type=\"checkbox\" checked><label for=\"sk-estimator-id-2\" class=\"sk-toggleable__label sk-toggleable__label-arrow\">RandomForestClassifier</label><div class=\"sk-toggleable__content\"><pre>RandomForestClassifier(random_state=42)</pre></div></div></div></div></div>"
      ],
      "text/plain": [
       "RandomForestClassifier(random_state=42)"
      ]
     },
     "execution_count": 16,
     "metadata": {},
     "output_type": "execute_result"
    }
   ],
   "source": [
    "# Initialize the Random Forest Classifier\n",
    "rf_model = RandomForestClassifier(n_estimators=100, random_state=42)\n",
    "\n",
    "# Train the model\n",
    "rf_model.fit(X_train, y_train)\n"
   ]
  },
  {
   "cell_type": "code",
   "execution_count": 11,
   "id": "19cc9858",
   "metadata": {},
   "outputs": [
    {
     "name": "stdout",
     "output_type": "stream",
     "text": [
      "Confusion Matrix:\n",
      "[[809  50]\n",
      " [118 225]]\n",
      "\n",
      "Classification Report:\n",
      "              precision    recall  f1-score   support\n",
      "\n",
      "           0       0.87      0.94      0.91       859\n",
      "           1       0.82      0.66      0.73       343\n",
      "\n",
      "    accuracy                           0.86      1202\n",
      "   macro avg       0.85      0.80      0.82      1202\n",
      "weighted avg       0.86      0.86      0.86      1202\n",
      "\n"
     ]
    },
    {
     "data": {
      "image/png": "[encoded data removed]",
      "text/plain": [
       "<Figure size 1080x432 with 1 Axes>"
      ]
     },
     "metadata": {
      "needs_background": "light"
     },
     "output_type": "display_data"
    }
   ],
   "source": [
    "# Make predictions\n",
    "y_pred = rf_model.predict(X_test)\n",
    "\n",
    "# Evaluate the model\n",
    "print(\"Confusion Matrix:\")\n",
    "print(confusion_matrix(y_test, y_pred))\n",
    "print(\"\\nClassification Report:\")\n",
    "print(classification_report(y_test, y_pred))\n",
    "\n",
    "# Feature Selection using Feature Importance\n",
    "importances = rf_model.feature_importances_\n",
    "indices = np.argsort(importances)[::-1]\n",
    "\n",
    "# Plot the feature importances\n",
    "plt.figure(figsize=(15, 6))\n",
    "sns.barplot(x=importances[indices], y=X.columns[indices])\n",
    "plt.title('Feature Importances')\n",
    "plt.xlabel('Relative Importance')\n",
    "plt.ylabel('Feature Names')\n",
    "plt.show()"
   ]
  },
  {
   "cell_type": "code",
   "execution_count": 18,
   "id": "52cbab0c",
   "metadata": {},
   "outputs": [
    {
     "name": "stdout",
     "output_type": "stream",
     "text": [
      "  customer_id  gender  age married           state  number_of_referrals  \\\n",
      "0   93520-GUJ  Female   67      No         Gujarat                   13   \n",
      "1   57256-BIH  Female   18      No           Bihar                    9   \n",
      "2   72357-MAD  Female   53      No  Madhya Pradesh                   14   \n",
      "3   66612-KAR  Female   58     Yes       Karnataka                   11   \n",
      "4   22119-WES    Male   31     Yes     West Bengal                    5   \n",
      "\n",
      "   tenure_in_months value_deal phone_service multiple_lines  ...  \\\n",
      "0                19     Deal 5           Yes            Yes  ...   \n",
      "1                 7       None           Yes             No  ...   \n",
      "2                12     Deal 5           Yes             No  ...   \n",
      "3                18       None           Yes             No  ...   \n",
      "4                 5       None           Yes             No  ...   \n",
      "\n",
      "    payment_method monthly_charge total_charges total_refunds  \\\n",
      "0  Bank Withdrawal          72.10          72.1           0.0   \n",
      "1      Credit Card          19.85          57.2           0.0   \n",
      "2      Credit Card          44.30          44.3           0.0   \n",
      "3      Credit Card          19.95          58.0           0.0   \n",
      "4      Credit Card          20.05          33.7           0.0   \n",
      "\n",
      "  total_extra_data_charges total_long_distance_charges total_revenue  \\\n",
      "0                        0                        7.77         79.87   \n",
      "1                        0                        9.36         66.56   \n",
      "2                        0                       42.95         87.25   \n",
      "3                        0                        8.07         66.07   \n",
      "4                        0                        3.62         37.32   \n",
      "\n",
      "  customer_status churn_category churn_reason  \n",
      "0          Joined         Others       Others  \n",
      "1          Joined         Others       Others  \n",
      "2          Joined         Others       Others  \n",
      "3          Joined         Others       Others  \n",
      "4          Joined         Others       Others  \n",
      "\n",
      "[5 rows x 32 columns]\n"
     ]
    }
   ],
   "source": [
    "# Define the path to the Joiner Data Excel file\n",
    "file_path = \"C:\\Data Analyst training\\RandomForest_training\\Data\\Prediction_Data.xlsx\"\n",
    "\n",
    "# Define the sheet name to read data from\n",
    "sheet_name = 'vw_joindata'\n",
    "\n",
    "# Read the data from the specified sheet into a pandas DataFrame\n",
    "new_data = pd.read_excel(file_path, sheet_name=sheet_name)\n",
    "\n",
    "# Display the first few rows of the fetched data\n",
    "print(new_data.head())\n",
    "\n",
    "# Retain the original DataFrame to preserve unencoded columns\n",
    "original_data = new_data.copy()\n",
    "\n",
    "# Retain the Customer_ID column\n",
    "customer_ids = new_data['customer_id']\n",
    "\n",
    "# Drop columns that won't be used for prediction in the encoded DataFrame\n",
    "new_data = new_data.drop(['customer_id', 'customer_status', 'churn_category', 'churn_reason'], axis=1)\n",
    "\n",
    "# Encode categorical variables using the saved label encoders\n",
    "for column in new_data.select_dtypes(include=['object']).columns:\n",
    "    new_data[column] = label_encoders[column].transform(new_data[column])\n",
    "\n",
    "# Make predictions\n",
    "new_predictions = rf_model.predict(new_data)\n",
    "\n",
    "# Add predictions to the original DataFrame\n",
    "original_data['Customer_Status_Predicted'] = new_predictions\n",
    "\n",
    "# Filter the DataFrame to include only records predicted as \"Churned\"\n",
    "original_data = original_data[original_data['Customer_Status_Predicted'] == 1]\n",
    "\n",
    "# Save the results\n",
    "original_data.to_csv(\"C:\\Data Analyst training\\RandomForest_training\\Data\\Predictions.csv\", index=False)\n"
   ]
  },
  {
   "cell_type": "code",
   "execution_count": null,
   "id": "d26eb854",
   "metadata": {},
   "outputs": [],
   "source": []
  }
 ],
 "metadata": {
  "kernelspec": {
   "display_name": "Python 3 (ipykernel)",
   "language": "python",
   "name": "python3"
  },
  "language_info": {
   "codemirror_mode": {
    "name": "ipython",
    "version": 3
   },
   "file_extension": ".py",
   "mimetype": "text/x-python",
   "name": "python",
   "nbconvert_exporter": "python",
   "pygments_lexer": "ipython3",
   "version": "3.9.12"
  }
 },
 "nbformat": 4,
 "nbformat_minor": 5
}
